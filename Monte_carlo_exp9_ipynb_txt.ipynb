{
  "nbformat": 4,
  "nbformat_minor": 0,
  "metadata": {
    "colab": {
      "provenance": [],
      "include_colab_link": true
    },
    "kernelspec": {
      "name": "python3",
      "display_name": "Python 3"
    },
    "language_info": {
      "name": "python"
    }
  },
  "cells": [
    {
      "cell_type": "markdown",
      "metadata": {
        "id": "view-in-github",
        "colab_type": "text"
      },
      "source": [
        "<a href=\"https://colab.research.google.com/github/NishantShokeen/RL/blob/main/Monte_carlo_exp9_ipynb_txt.ipynb\" target=\"_parent\"><img src=\"https://colab.research.google.com/assets/colab-badge.svg\" alt=\"Open In Colab\"/></a>"
      ]
    },
    {
      "cell_type": "markdown",
      "source": [
        "__________________________________________________________________________\n",
        "# *EVERY* VISIT\n",
        "__________________________________________________________________________"
      ],
      "metadata": {
        "id": "kPdO4PO00cT9"
      }
    },
    {
      "cell_type": "code",
      "execution_count": 1,
      "metadata": {
        "id": "9vRhVhNR0JX3",
        "outputId": "c7c9a643-218e-4286-c649-d2dbb24da1f7",
        "colab": {
          "base_uri": "https://localhost:8080/"
        }
      },
      "outputs": [
        {
          "output_type": "stream",
          "name": "stdout",
          "text": [
            "{'A': 0.5, 'B': -2.75}\n"
          ]
        }
      ],
      "source": [
        "import numpy as np\n",
        "\n",
        "# Define the episode\n",
        "episodes = [\n",
        "    [('A', 3), ('A', 2), ('B', -4), ('A', 4), ('B', -3)],\n",
        "    [('B', -2), ('A', 3), ('B', -3)]\n",
        "    ]\n",
        "\n",
        "# Define the states\n",
        "states = ['A', 'B']\n",
        "\n",
        "# Initialize the value function\n",
        "V = {s: 0 for s in states}\n",
        "\n",
        "# Perform Every-Visit Monte Carlo Policy Evaluation\n",
        "returns = {s: [] for s in states}\n",
        "\n",
        "for episode in episodes:\n",
        "    # Calculate returns and update the value function\n",
        "    G = 0\n",
        "    for t, (state, reward) in reversed(list(enumerate(episode))):\n",
        "        G = G + reward\n",
        "        # Removed the check for first visit\n",
        "        returns[state].append(G)\n",
        "        V[state] = np.mean(returns[state])\n",
        "\n",
        "# Print the value function\n",
        "print(V)"
      ]
    },
    {
      "cell_type": "markdown",
      "source": [
        "____________________________________________________________________________________________\n",
        "# FIRST VISIT\n",
        "___________________________________________________________________________________"
      ],
      "metadata": {
        "id": "rxYWMZPP03ls"
      }
    },
    {
      "cell_type": "code",
      "source": [
        "import numpy as np\n",
        "\n",
        "# Define the episode\n",
        "episodes = [\n",
        "    [('A', 3), ('A', 2), ('B', -4), ('A', 4), ('B', -3)],\n",
        "    [('B', -2), ('A', 3), ('B', -3)]\n",
        "    ]\n",
        "\n",
        "# Define the states\n",
        "states = ['A', 'B']\n",
        "\n",
        "# Initialize the value function\n",
        "V = {s: 0 for s in states}\n",
        "\n",
        "# Perform First-Visit Monte Carlo Policy Evaluation\n",
        "returns = {s: [] for s in states}\n",
        "\n",
        "for episode in episodes:\n",
        "    # Calculate returns and update the value function\n",
        "    G = 0\n",
        "    for t, (state, reward) in reversed(list(enumerate(episode))):\n",
        "        G = G + reward\n",
        "        if state not in [x[0] for x in episode[:t]]:\n",
        "            returns[state].append(G)\n",
        "            V[state] = np.mean(returns[state])\n",
        "\n",
        "# Print the value function\n",
        "print(V)"
      ],
      "metadata": {
        "id": "1EYyJmb90rV-",
        "outputId": "188437cf-7fae-4eb8-abcb-b5e4686a84b3",
        "colab": {
          "base_uri": "https://localhost:8080/"
        }
      },
      "execution_count": 2,
      "outputs": [
        {
          "output_type": "stream",
          "name": "stdout",
          "text": [
            "{'A': 1.0, 'B': -2.5}\n"
          ]
        }
      ]
    },
    {
      "cell_type": "code",
      "source": [],
      "metadata": {
        "id": "JxfT0fkDyhoI"
      },
      "execution_count": null,
      "outputs": []
    }
  ]
}